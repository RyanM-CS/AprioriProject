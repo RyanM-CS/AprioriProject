{
 "cells": [
  {
   "cell_type": "code",
   "execution_count": 1,
   "metadata": {},
   "outputs": [],
   "source": [
    "import math\n",
    "import numpy as np\n",
    "import pandas as pd\n",
    "import matplotlib.pyplot as plt"
   ]
  },
  {
   "cell_type": "markdown",
   "metadata": {},
   "source": [
    "This is my project where I use Apriori to generate frequent word and character sets and compare the average sales of titles containing these words and characters to the average sales accross the video game genres in this dataset. I end up using a modified support threshold that weights titles with high sales more than titles with lower sales to generate a frequent word triple that has a much stronger correlation to high average sales than the average sales of the different genres.  \n",
    "Data Set - https://www.kaggle.com/gregorut/videogamesales"
   ]
  },
  {
   "cell_type": "markdown",
   "metadata": {},
   "source": [
    "Clarity of description of data, methods used so far:  \n",
    "  \n",
    "The video game data set was put together by Gregory Smith on kaggle, and has 11 attributes for the video games. It contains the video game name, platform, and genre, as well as the publisher of the game. In addition to these, the year the game was released is an attribute as well, going back to games released in 1980 like Asteroids and Missile Command. There is also the number of sales for Northern America, Europe, Japan, and other regions, as well as the total number of sales as global sales. Lastly, there is a rank for each video game, which correlates to the game’s rank among all video games listed in terms of global sales.  \n",
    "To scrub the data set, I first had to remove the context from some titles from the actual title name. For instance, the title \"Star Wars Battlefront\" was represented by \"Star Wars Battlefront (2015)\" to distinguish it from an earlier title with the same name. As that is not a part of the actual title, I removed the parts in quotations from these titles. I also removed any unwanted characters from the titles, such as accents and brackets. I decided to keep some special characters like '!' and '?' as I think these are valid parts of the titles.  \n",
    "So far I have scrubbed the titles and set them up so that I can use the Apriori algorithm on them. I have also found some important characteristics of the data set and listed them below."
   ]
  },
  {
   "cell_type": "code",
   "execution_count": 2,
   "metadata": {},
   "outputs": [
    {
     "name": "stdout",
     "output_type": "stream",
     "text": [
      "Loading data set\n"
     ]
    },
    {
     "data": {
      "text/html": [
       "<div>\n",
       "<style scoped>\n",
       "    .dataframe tbody tr th:only-of-type {\n",
       "        vertical-align: middle;\n",
       "    }\n",
       "\n",
       "    .dataframe tbody tr th {\n",
       "        vertical-align: top;\n",
       "    }\n",
       "\n",
       "    .dataframe thead th {\n",
       "        text-align: right;\n",
       "    }\n",
       "</style>\n",
       "<table border=\"1\" class=\"dataframe\">\n",
       "  <thead>\n",
       "    <tr style=\"text-align: right;\">\n",
       "      <th></th>\n",
       "      <th>Rank</th>\n",
       "      <th>Name</th>\n",
       "      <th>Platform</th>\n",
       "      <th>Year</th>\n",
       "      <th>Genre</th>\n",
       "      <th>Publisher</th>\n",
       "      <th>NA_Sales</th>\n",
       "      <th>EU_Sales</th>\n",
       "      <th>JP_Sales</th>\n",
       "      <th>Other_Sales</th>\n",
       "      <th>Global_Sales</th>\n",
       "    </tr>\n",
       "  </thead>\n",
       "  <tbody>\n",
       "    <tr>\n",
       "      <td>0</td>\n",
       "      <td>1</td>\n",
       "      <td>Wii Sports</td>\n",
       "      <td>Wii</td>\n",
       "      <td>2006.0</td>\n",
       "      <td>Sports</td>\n",
       "      <td>Nintendo</td>\n",
       "      <td>41.49</td>\n",
       "      <td>29.02</td>\n",
       "      <td>3.77</td>\n",
       "      <td>8.46</td>\n",
       "      <td>82.74</td>\n",
       "    </tr>\n",
       "    <tr>\n",
       "      <td>1</td>\n",
       "      <td>2</td>\n",
       "      <td>Super Mario Bros.</td>\n",
       "      <td>NES</td>\n",
       "      <td>1985.0</td>\n",
       "      <td>Platform</td>\n",
       "      <td>Nintendo</td>\n",
       "      <td>29.08</td>\n",
       "      <td>3.58</td>\n",
       "      <td>6.81</td>\n",
       "      <td>0.77</td>\n",
       "      <td>40.24</td>\n",
       "    </tr>\n",
       "    <tr>\n",
       "      <td>2</td>\n",
       "      <td>3</td>\n",
       "      <td>Mario Kart Wii</td>\n",
       "      <td>Wii</td>\n",
       "      <td>2008.0</td>\n",
       "      <td>Racing</td>\n",
       "      <td>Nintendo</td>\n",
       "      <td>15.85</td>\n",
       "      <td>12.88</td>\n",
       "      <td>3.79</td>\n",
       "      <td>3.31</td>\n",
       "      <td>35.82</td>\n",
       "    </tr>\n",
       "    <tr>\n",
       "      <td>3</td>\n",
       "      <td>4</td>\n",
       "      <td>Wii Sports Resort</td>\n",
       "      <td>Wii</td>\n",
       "      <td>2009.0</td>\n",
       "      <td>Sports</td>\n",
       "      <td>Nintendo</td>\n",
       "      <td>15.75</td>\n",
       "      <td>11.01</td>\n",
       "      <td>3.28</td>\n",
       "      <td>2.96</td>\n",
       "      <td>33.00</td>\n",
       "    </tr>\n",
       "    <tr>\n",
       "      <td>4</td>\n",
       "      <td>5</td>\n",
       "      <td>Pokemon Red/Pokemon Blue</td>\n",
       "      <td>GB</td>\n",
       "      <td>1996.0</td>\n",
       "      <td>Role-Playing</td>\n",
       "      <td>Nintendo</td>\n",
       "      <td>11.27</td>\n",
       "      <td>8.89</td>\n",
       "      <td>10.22</td>\n",
       "      <td>1.00</td>\n",
       "      <td>31.37</td>\n",
       "    </tr>\n",
       "  </tbody>\n",
       "</table>\n",
       "</div>"
      ],
      "text/plain": [
       "   Rank                      Name Platform    Year         Genre Publisher  \\\n",
       "0     1                Wii Sports      Wii  2006.0        Sports  Nintendo   \n",
       "1     2         Super Mario Bros.      NES  1985.0      Platform  Nintendo   \n",
       "2     3            Mario Kart Wii      Wii  2008.0        Racing  Nintendo   \n",
       "3     4         Wii Sports Resort      Wii  2009.0        Sports  Nintendo   \n",
       "4     5  Pokemon Red/Pokemon Blue       GB  1996.0  Role-Playing  Nintendo   \n",
       "\n",
       "   NA_Sales  EU_Sales  JP_Sales  Other_Sales  Global_Sales  \n",
       "0     41.49     29.02      3.77         8.46         82.74  \n",
       "1     29.08      3.58      6.81         0.77         40.24  \n",
       "2     15.85     12.88      3.79         3.31         35.82  \n",
       "3     15.75     11.01      3.28         2.96         33.00  \n",
       "4     11.27      8.89     10.22         1.00         31.37  "
      ]
     },
     "execution_count": 2,
     "metadata": {},
     "output_type": "execute_result"
    }
   ],
   "source": [
    "dat=pd.read_csv('../data/vgsales.csv', encoding='UTF-8')\n",
    "print(\"Loading data set\")\n",
    "dat.head(5)"
   ]
  },
  {
   "cell_type": "markdown",
   "metadata": {},
   "source": [
    "Rudimentary exploration of dataset  \n",
    "Listed: Characters before and after scrubbing, Max and Min titles in terms of sales numbers, Average sales per genre, character counts present in titles."
   ]
  },
  {
   "cell_type": "code",
   "execution_count": 3,
   "metadata": {},
   "outputs": [
    {
     "name": "stdout",
     "output_type": "stream",
     "text": [
      "Characters present initially\n",
      "{'-', '1', 'p', '3', \"'\", '°', '@', '?', '7', 'q', '¡', 'v', 'x', '.', 'w', 'j', 'z', ';', 'd', 'o', '·', '×', '♪', 'a', '\\u200b', '~', 'é', '&', '9', 'α', '8', 'k', '!', 's', 'ø', 'e', '$', '0', 'b', 'f', '6', '2', '5', 'ö', '(', '#', '%', ')', ' ', 'l', '*', 'ä', ':', 't', '[', 'u', '/', 'c', 'à', 'ë', 'm', 'i', ',', 'r', 'n', ']', 'g', '4', '+', 'y', 'h'}\n",
      "71\n",
      "Characters present after cleaning\n",
      "{'1', '@', 'p', '3', '?', '7', 'q', 'v', 'x', 'w', 'j', 'z', 'd', 'o', 'a', '9', '&', '8', 'k', '!', 's', 'e', '$', '0', 'b', 'f', '6', '2', '5', '#', '%', ' ', 'l', 't', 'u', 'c', 'm', 'i', 'r', 'n', 'g', '4', '+', 'y', 'h'}\n",
      "45\n"
     ]
    }
   ],
   "source": [
    "titles = dat[\"Name\"]\n",
    "titles\n",
    "charList = \"\"\n",
    "titleLen = len(titles)\n",
    "temp = 0\n",
    "while temp < titleLen:\n",
    "    charList = charList + titles[temp]\n",
    "    temp = temp+1\n",
    "charList = charList.lower()\n",
    "print(\"Characters present initially\")\n",
    "print(set(charList))\n",
    "print(len(set(charList)))\n",
    "titleList = []\n",
    "for x in titles:\n",
    "    titleList.append(x)\n",
    "temp2 = 0\n",
    "for y in titleList: #Clean titleList\n",
    "    temp4 = 0\n",
    "    yTemp = y\n",
    "    while temp4 < len(y):\n",
    "        if y[temp4] == 'ø':\n",
    "            print(\"ø found\")\n",
    "        temp4 = temp4 + 1\n",
    "    if '(' in y:\n",
    "        z = y.split('(')\n",
    "        y = z[0]\n",
    "    y = y.replace(\"♪\",\"\")\n",
    "    y = y.replace(\":\",\"\")\n",
    "    y = y.replace(\";\",\"\")\n",
    "    y = y.replace(\"\\u200b\",\"\")\n",
    "    y = y.replace(\"°\",\"\")\n",
    "    y = y.replace(\"-\",\"\")\n",
    "    y = y.replace(\",\",\"\")\n",
    "    y = y.replace(\"/\",\"\")\n",
    "    y = y.replace(\"'\",\"\")\n",
    "    y = y.replace(\"é\",\"e\")\n",
    "    y = y.replace(\"(\",\"\")\n",
    "    y = y.replace(\")\",\"\")\n",
    "    y = y.replace(\"*\",\"\")\n",
    "    y = y.replace(\"à\",\"a\")\n",
    "    y = y.replace(\"¡\",\"i\")\n",
    "    y = y.replace(\".\",\"\")\n",
    "    y = y.replace(\"α\",\"\")\n",
    "    y = y.replace(\"[\",\"\")\n",
    "    y = y.replace(\"·\",\"\")\n",
    "    y = y.replace(\"ë\",\"e\")\n",
    "    y = y.replace(\"Ø\",\"o\")\n",
    "    y = y.replace(\"ö\",\"o\")\n",
    "    y = y.replace(\"~\",\"\")\n",
    "    y = y.replace(\"ä\",\"a\")\n",
    "    y = y.replace(\"]\",\"\")\n",
    "    y = y.replace(\"×\",\"x\")\n",
    "    char = 'ø'\n",
    "    if char in y:\n",
    "        print(\"Y\")\n",
    "        titleList.remove(y)\n",
    "    else:\n",
    "        \n",
    "        titleList[temp2] = y\n",
    "    temp2 = temp2+1\n",
    "charList2 = \"\"\n",
    "titleLen2 = len(titleList)\n",
    "temp3 = 0\n",
    "while temp3 < titleLen2: #Get all present characters\n",
    "    charList2 = charList2 + titleList[temp3]\n",
    "    temp3 = temp3+1\n",
    "charList2 = charList2.lower()\n",
    "print(\"Characters present after cleaning\")\n",
    "print(set(charList2))\n",
    "print(len(set(charList2)))"
   ]
  },
  {
   "cell_type": "code",
   "execution_count": 4,
   "metadata": {},
   "outputs": [
    {
     "name": "stdout",
     "output_type": "stream",
     "text": [
      "Max and Min titles\n",
      "82.74 Wii Sports\n",
      "0.01 Turok\n",
      "Genres Present:  {'Role-Playing', 'Puzzle', 'Sports', 'Racing', 'Simulation', 'Fighting', 'Shooter', 'Adventure', 'Strategy', 'Misc', 'Action', 'Platform'}\n",
      "Average Sales per Genre: \n",
      "Genre:  Role-Playing\n",
      "Average Sales:  760762.92 Units\n",
      "\n",
      "Genre:  Puzzle\n",
      "Average Sales:  490881.76 Units\n",
      "\n",
      "Genre:  Sports\n",
      "Average Sales:  965141.41 Units\n",
      "\n",
      "Genre:  Racing\n",
      "Average Sales:  948238.34 Units\n",
      "\n",
      "Genre:  Simulation\n",
      "Average Sales:  540220.39 Units\n",
      "\n",
      "Genre:  Fighting\n",
      "Average Sales:  733513.07 Units\n",
      "\n",
      "Genre:  Shooter\n",
      "Average Sales:  1269730.72 Units\n",
      "\n",
      "Genre:  Adventure\n",
      "Average Sales:  228091.6 Units\n",
      "\n",
      "Genre:  Strategy\n",
      "Average Sales:  300893.47 Units\n",
      "\n",
      "Genre:  Misc\n",
      "Average Sales:  610369.25 Units\n",
      "\n",
      "Genre:  Action\n",
      "Average Sales:  910650.03 Units\n",
      "\n",
      "Genre:  Platform\n",
      "Average Sales:  1411494.06 Units\n",
      "\n",
      "[['Platform', 831.3699999999974, 589, 1411494.0577249532], ['Shooter', 1037.3699999999901, 817, 1269730.7221542108], ['Sports', 1330.929999999988, 1379, 965141.406816525], ['Racing', 732.0399999999955, 772, 948238.3419689061], ['Action', 1751.1799999999691, 1923, 910650.026001024], ['Role-Playing', 927.3699999999941, 1219, 760762.9204265743], ['Fighting', 448.90999999999923, 612, 733513.0718954236], ['Misc', 809.9599999999936, 1327, 610369.2539562875], ['Simulation', 392.19999999999783, 726, 540220.3856749281], ['Puzzle', 244.9500000000005, 499, 490881.7635270551], ['Strategy', 175.1200000000004, 582, 300893.4707903787], ['Adventure', 239.04000000000138, 1048, 228091.60305343644]]\n"
     ]
    }
   ],
   "source": [
    "#Get average sales per genre as well as Max and Min Titles\n",
    "maxSales = 0\n",
    "maxSalesTitle = \"\"\n",
    "minSales = math.inf\n",
    "minSalesTitle = \"\"\n",
    "genres = []\n",
    "for i, x in dat.iterrows():\n",
    "    genres.append(x['Genre'])\n",
    "    if x['Global_Sales'] > maxSales:\n",
    "        maxSales = x['Global_Sales']\n",
    "        maxSalesTitle = x['Name']\n",
    "    if x['Global_Sales'] < minSales:\n",
    "        minSales = x['Global_Sales']\n",
    "        minSalesTitle = x['Name']\n",
    "print(\"Max and Min titles\")\n",
    "print(maxSales, maxSalesTitle)\n",
    "print(minSales, minSalesTitle)\n",
    "genres = set(genres)\n",
    "print(\"Genres Present: \", genres)\n",
    "#Get average sales for each genre\n",
    "genreList = []\n",
    "uTitle = []\n",
    "for x in genres:\n",
    "    genreList.append([x,0,0])\n",
    "for i, y in dat.iterrows():\n",
    "    for z in genreList:\n",
    "        if z[0] == y['Genre']:\n",
    "            z[1] = z[1] + y['Global_Sales']\n",
    "            if y['Name'] not in uTitle: \n",
    "                z[2] = z[2] + 1\n",
    "                uTitle.append(y['Name'])\n",
    "temp = 0\n",
    "#Get average sales per genre\n",
    "while temp < len(genreList):\n",
    "    genreList[temp].append(genreList[temp][1] / genreList[temp][2])\n",
    "    temp = temp + 1\n",
    "print(\"Average Sales per Genre: \")\n",
    "for p in genreList:\n",
    "    print(\"Genre: \",p[0])\n",
    "    print(\"Average Sales: \",np.round(p[3] * 1000000, 2),\"Units\")\n",
    "    print(\"\")\n",
    "#Get ordered genres\n",
    "temp = 0\n",
    "maxGenreSaleOrder = []\n",
    "genreSalesListC = genreList.copy()\n",
    "while temp < len(genreList):\n",
    "    maxSaleVal = 0\n",
    "    maxSaleInd = 0\n",
    "    temp2 = 0\n",
    "    while temp2 < len(genreSalesListC):\n",
    "        if genreSalesListC[temp2][3] > maxSaleVal:\n",
    "            maxSaleVal = genreSalesListC[temp2][3]\n",
    "            maxSaleInd = temp2\n",
    "            maxSaleI = genreSalesListC[temp2]\n",
    "        temp2 = temp2 + 1\n",
    "    maxSaleI[3] = maxSaleI[3] * 1000000\n",
    "    maxGenreSaleOrder.append(maxSaleI)\n",
    "    genreSalesListC.remove(genreSalesListC[maxSaleInd])\n",
    "    temp = temp + 1\n",
    "print(maxGenreSaleOrder)"
   ]
  },
  {
   "cell_type": "code",
   "execution_count": 5,
   "metadata": {},
   "outputs": [
    {
     "name": "stdout",
     "output_type": "stream",
     "text": [
      "Count for character  1 :  1129\n",
      "Count for character  @ :  18\n",
      "Count for character  p :  7079\n",
      "Count for character  3 :  868\n",
      "Count for character  ? :  86\n",
      "Count for character  7 :  246\n",
      "Count for character  q :  415\n",
      "Count for character  v :  3526\n",
      "Count for character  x :  1189\n",
      "Count for character  w :  4066\n",
      "Count for character  j :  1472\n",
      "Count for character  z :  1232\n",
      "Count for character  d :  11759\n",
      "Count for character  o :  25420\n",
      "Count for character  a :  29965\n",
      "Count for character  9 :  349\n",
      "Count for character  & :  340\n",
      "Count for character  8 :  228\n",
      "Count for character  k :  6851\n",
      "Count for character  ! :  883\n",
      "Count for character  s :  22066\n",
      "Count for character  e :  33766\n",
      "Count for character  $ :  3\n",
      "Count for character  0 :  2096\n",
      "Count for character  b :  6017\n",
      "Count for character  f :  6215\n",
      "Count for character  6 :  308\n",
      "Count for character  2 :  2525\n",
      "Count for character  5 :  363\n",
      "Count for character  # :  8\n",
      "Count for character  % :  1\n",
      "Count for character    :  48908\n",
      "Count for character  l :  14215\n",
      "Count for character  t :  22171\n",
      "Count for character  u :  11684\n",
      "Count for character  c :  10586\n",
      "Count for character  m :  10572\n",
      "Count for character  i :  23109\n",
      "Count for character  r :  24182\n",
      "Count for character  n :  22376\n",
      "Count for character  g :  8758\n",
      "Count for character  4 :  516\n",
      "Count for character  + :  32\n",
      "Count for character  y :  5644\n",
      "Count for character  h :  11023\n"
     ]
    }
   ],
   "source": [
    "#Printing count of characters present in titles\n",
    "count = []\n",
    "charList2Set = set(charList2)\n",
    "l = []\n",
    "for z in charList2Set:\n",
    "    l.append(z)\n",
    "for x in charList2Set:\n",
    "    count.append(0)\n",
    "for y in charList2:\n",
    "    char = l.index(y)\n",
    "    count[char] = count[char] + 1\n",
    "temp5 = 0\n",
    "while temp5 < len(count):\n",
    "    print(\"Count for character \", l[temp5], \": \", count[temp5])\n",
    "    temp5 = temp5 + 1"
   ]
  },
  {
   "cell_type": "markdown",
   "metadata": {},
   "source": [
    "Results of preliminary analysis:  \n",
    "  \n",
    "I found the average sales for each of the 12 genres, so ideally I can use the Apriori algorithm to get around 12 combinations of characters/words and compare the average sales of titles with those combinations to the calculated average sales of each genre. From the character counts form the last cell, the most popular characters are e, a and o, so I expect that the combinations found through the Apriori algorithm will primarily contain those characters, while some of the non-standard characters I decided to keep like \"%\" and \"$\" have single digit representation, so those will almost certainly not show up in my final combinations. My next steps will be to run Apriori on the titles seperated by both characters and words, find the average sales of titles containing these combinations, compare those to the average sales of the 12 genres, and graph my comparisons."
   ]
  },
  {
   "cell_type": "markdown",
   "metadata": {},
   "source": [
    "Time to prepare my lists of characters and words for the Apriori  \n",
    "First thing to do is make sure each title is only listed once. Currently, there are different entries for each platform release for each title. For instance, Fallout4 was released on PS4 , XboxOne, and PC. So for Fallout 4, there are 3 seperate entries for the game, one for each platform. So I'll make sure that each title is only represented once in my list of titles, and then make sure I take the total sales from all platform releases for each game when getting my sales average for each combination of characters and words."
   ]
  },
  {
   "cell_type": "code",
   "execution_count": 6,
   "metadata": {},
   "outputs": [
    {
     "name": "stdout",
     "output_type": "stream",
     "text": [
      "Length of list of all titles before accounting for multiple platforms:  16598\n",
      "Length of list of all titles after accounting for multiple platforms:  11432\n",
      "['t', 'a', 'i', 'f', 'u', 'w', 'r', 'h', 'o', 'e', 'g']\n",
      "['t', 'a', 'i', 'f', 'u', 'w', 'r', 'a', 't', 'h', 'o', 'f', 't', 'h', 'e', 't', 'i', 'g', 'e', 'r']\n",
      "['tai', 'fu', 'wrath', 'of', 'the', 'tiger']\n",
      "Frequent characters after k=1 run:  0.18181818181818182\n",
      "List of Qualified Character Pairs [pair, instances]:\n",
      "[['t', 'a', 6967], ['t', 'r', 6567], ['t', 'e', 7205], ['a', 'i', 6945], ['a', 'r', 7486], ['a', 'o', 7180], ['a', 'e', 7955], ['a', 's', 6892], ['a', 'n', 7103], ['i', 'e', 6982], ['r', 'o', 6923], ['r', 'e', 7589], ['r', 's', 6531], ['o', 'e', 7285], ['o', 'n', 6596], ['e', 's', 7079], ['e', 'n', 7125]]\n"
     ]
    }
   ],
   "source": [
    "#Setting up and running Apriori\n",
    "#Used HW5 Solutions as a help resource for implementing Apriori\n",
    "\n",
    "titleListUnique = set(titleList)\n",
    "print(\"Length of list of all titles before accounting for multiple platforms: \", len(titleList))\n",
    "print(\"Length of list of all titles after accounting for multiple platforms: \", len(titleListUnique))\n",
    "updatedTitleList = []\n",
    "for x in titleListUnique:\n",
    "    updatedTitleList.append(x)\n",
    "\n",
    "#Now to make the lists containing the titles split by characters and words\n",
    "titleListByChars = []\n",
    "titleListByCharsUnique = []\n",
    "lookupTableChars = {}\n",
    "temp3 = 0\n",
    "for y in updatedTitleList:\n",
    "    y = y.lower()\n",
    "    y = y.replace(\" \",\"\") #For chars list remove white space\n",
    "    temp = 0\n",
    "    tempL = []\n",
    "    tempLU = []\n",
    "    #Get lists for titles seperated by characters\n",
    "    while temp < len(y):\n",
    "        tempL.append(y[temp])\n",
    "        if y[temp] not in tempLU:\n",
    "            tempLU.append(y[temp])\n",
    "        if y[temp] not in lookupTableChars.keys():\n",
    "            lookupTableChars[y[temp]] = temp3\n",
    "            temp3 = temp3 + 1\n",
    "        temp = temp + 1\n",
    "    titleListByChars.append(tempL)\n",
    "    titleListByCharsUnique.append(tempLU)\n",
    "    \n",
    "print(titleListByCharsUnique[0])\n",
    "print(titleListByChars[0])\n",
    "\n",
    "\n",
    "titleListByWords = []\n",
    "titleListByWordsUnique = []\n",
    "lookupTableWords = {}\n",
    "temp4 = 0\n",
    "for a in updatedTitleList:\n",
    "    a = a.lower()\n",
    "    a = a.split(\" \") #Use white spaces to split title into words\n",
    "    tempL2 = []\n",
    "    tempLU2 = []\n",
    "    temp2 = 0\n",
    "    while temp2 < len(a):\n",
    "        tempL2.append(a[temp2])\n",
    "        if a[temp2] not in tempLU2:\n",
    "            tempLU2.append(a[temp2])\n",
    "        if a[temp2] not in lookupTableWords.keys():\n",
    "            lookupTableWords[a[temp2]] = temp4\n",
    "            temp4 = temp4 + 1\n",
    "        temp2 = temp2 + 1\n",
    "    titleListByWords.append(tempL2)\n",
    "    titleListByWordsUnique.append(tempLU2)\n",
    "print(titleListByWordsUnique[0])\n",
    "#Counts for characters\n",
    "#K=1 run\n",
    "temp5 = 0\n",
    "charCounts = []\n",
    "while temp5 < len(lookupTableChars): #Append a 0 for each character to the count list\n",
    "    charCounts.append(0)\n",
    "    temp5 = temp5 + 1\n",
    "for cl in titleListByCharsUnique: #Go through each title and if char is present then add 1 to count\n",
    "    for c in cl:\n",
    "        charCounts[lookupTableChars[c]] = charCounts[lookupTableChars[c]] + 1\n",
    "supportThreshold = len(titleListByCharsUnique) * 0.57#Starting with a High Threshold value, wanted to reduce to 25% \n",
    "qChars = []\n",
    "for ch in lookupTableChars.keys(): #Go through each character\n",
    "    ind = lookupTableChars[ch]\n",
    "    if charCounts[ind] > supportThreshold: #See if character is greater than support threshold\n",
    "        qChars.append(ch) #If character is greater than support threshold, add to qualified characters list\n",
    "#Now for K=2\n",
    "print(\"Frequent characters after k=1 run: \", len(qChars) / len(charCounts))\n",
    "qCharPairs = []\n",
    "temp6 = 0\n",
    "#Getting possible combinations for qualified pairs using qualified characters from K=1 run\n",
    "while temp6 < len(qChars):\n",
    "    char1 = qChars[temp6]\n",
    "    temp7 = temp6 + 1 #Start from one spot further than temp6\n",
    "    while temp7 < len(qChars):#from temp6+1 to end of qualified characters, this will get all possible combos\n",
    "        char2 = qChars[temp7]\n",
    "        pairCount = [lookupTableChars[char1], lookupTableChars[char2]]\n",
    "        qCharPairs.append(pairCount) #Adding pair to list\n",
    "        temp7 = temp7 + 1\n",
    "    temp6 = temp6 + 1\n",
    "lookupTable2 = {}\n",
    "for x in qCharPairs: #Making lookup table for each pair from qualified characters\n",
    "    lookupTable2[(x[0], x[1])] = 0\n",
    "for cl in titleListByCharsUnique:\n",
    "    clQ = []\n",
    "    for c in cl:\n",
    "        if c in qChars: #Only need the qualified characters, so go through and get qualified characters in title\n",
    "            clQ.append(c)\n",
    "    temp8 = 0\n",
    "    while temp8 < len(clQ): #From start of title (only qualified characters) to end\n",
    "        char1 = clQ[temp8]\n",
    "        char1ID = lookupTableChars[char1]\n",
    "        temp9 = temp8 + 1\n",
    "        while temp9 < len(clQ): #From start of temp8 to end, to get all possible pairs from qualified characters in title\n",
    "            char2 = clQ[temp9]\n",
    "            char2ID = lookupTableChars[char2]\n",
    "            pair = [char1ID, char2ID] #Create list with the ID's of the characters\n",
    "            pairVal1 = min(pair) #Take min ID\n",
    "            pair.remove(pairVal1)\n",
    "            pairVal2 = pair[0] #Take other ID\n",
    "            pair.remove(pairVal2)\n",
    "            finalPair = (pairVal1, pairVal2) #This insures that ID is from lowest to highest, like in lookup table\n",
    "            if finalPair in lookupTable2.keys():\n",
    "                lookupTable2[finalPair] = lookupTable2[finalPair] + 1 #Add one to counter for this pair\n",
    "            temp9 = temp9 + 1\n",
    "        temp8 = temp8 + 1\n",
    "qualified = []\n",
    "k = []\n",
    "for l in lookupTableChars.keys(): #Made a list with all characters, the index of the list will be how I go from ID to character\n",
    "    k.append(l)\n",
    "for p in lookupTable2.keys(): #Go through each pair from qualified characters\n",
    "    v = lookupTable2[p]\n",
    "    if v > supportThreshold: #If pair exceeds threshold value, then add to qualified list\n",
    "        pChar1 = k[p[0]] #From ID to char\n",
    "        pChar2 = k[p[1]]\n",
    "        qualified.append([pChar1, pChar2, v])\n",
    "print(\"List of Qualified Character Pairs [pair, instances]:\")\n",
    "print(qualified)"
   ]
  },
  {
   "cell_type": "markdown",
   "metadata": {},
   "source": [
    "Looking for triples of characters"
   ]
  },
  {
   "cell_type": "code",
   "execution_count": 7,
   "metadata": {},
   "outputs": [
    {
     "name": "stdout",
     "output_type": "stream",
     "text": [
      "Frequent Triples of Characters: \n",
      "[['t', 'a', 'r', 5760], ['t', 'a', 'e', 6175], ['t', 'r', 'e', 5943], ['a', 'i', 'e', 5942], ['a', 'r', 'o', 5973], ['a', 'r', 's', 5701], ['a', 'o', 'e', 6162], ['a', 'o', 'n', 5690], ['a', 'e', 's', 6053], ['a', 'e', 'n', 6156], ['r', 'o', 'e', 6059], ['r', 'e', 's', 5823], ['o', 'e', 'n', 5758]]\n"
     ]
    }
   ],
   "source": [
    "qCharTrips = []\n",
    "newQ = []\n",
    "#Get list of characters to add on to pairs\n",
    "for x in qualified: #Here just getting a list of qualified characters from the pairs\n",
    "    if x[0] not in newQ:\n",
    "        newQ.append(x[0])\n",
    "    if x[1] not in newQ:\n",
    "        newQ.append(x[1])\n",
    "#Get Triples\n",
    "for x in qualified: #Getting all possible triples from qualified pairs\n",
    "    temp = 0\n",
    "    char1Ind = lookupTableChars[x[0]] #Get indices of characters\n",
    "    char2Ind = lookupTableChars[x[1]]\n",
    "    while temp < len(newQ): #Go through list of qualified characters\n",
    "        char3 = newQ[temp]\n",
    "        char3Ind = lookupTableChars[char3]\n",
    "        if char3 not in x: #Put indices from least to greatest, only add if character not already in the pair\n",
    "            trip = [char1Ind, char2Ind, char3Ind]\n",
    "            tripVal1 = min(trip)\n",
    "            trip.remove(tripVal1)\n",
    "            tripVal2 = min(trip)\n",
    "            trip.remove(tripVal2)\n",
    "            tripVal3 = trip[0]\n",
    "            trip.remove(tripVal3)\n",
    "            finalTriple = (tripVal1, tripVal2, tripVal3)\n",
    "            if finalTriple not in qCharTrips: #Append to qCharTrips if not already in\n",
    "                qCharTrips.append(finalTriple)\n",
    "        temp = temp + 1\n",
    "\n",
    "\n",
    "#Pruning step, want to get only possible triples\n",
    "removal = []\n",
    "for x in lookupTable2.keys():\n",
    "    if lookupTable2[x] <= supportThreshold:#Check if this pair had less support than threshold\n",
    "        for y in qCharTrips:\n",
    "            if x[0] in y:\n",
    "                if x[1] in y: #If the pair is present in the triple, it cannot have the necessary support\n",
    "                    removal.append(y) #So add to removal list\n",
    "removalSet = set(removal)\n",
    "for x in removalSet: #Now remove them from the triples list\n",
    "    qCharTrips.remove(x)\n",
    "                    \n",
    "                    \n",
    "                    \n",
    "newQ2 = []\n",
    "for x in qCharTrips: #Finding new list of qualified characters that are in the updated triples list\n",
    "    if x[0] not in newQ2:\n",
    "        newQ2.append(x[0])\n",
    "    if x[1] not in newQ2:\n",
    "        newQ2.append(x[1])\n",
    "    if x[2] not in newQ2:\n",
    "        newQ2.append(x[2])\n",
    "\n",
    "\n",
    "\n",
    "lookupTable3 = {} #Making new lookup table with the new triples list\n",
    "for x in qCharTrips:\n",
    "    lookupTable3[(x[0], x[1], x[2])] = 0\n",
    "for cl in titleListByCharsUnique: #Now go through each title and count instances of triples\n",
    "    clQ = []\n",
    "    for c in cl:\n",
    "        if lookupTableChars[c] in newQ2: #Getting qualified characters from title\n",
    "            clQ.append(c)\n",
    "    temp = 0\n",
    "    while temp < len(clQ): #Go through qualified characters from title\n",
    "        char1 = clQ[temp]\n",
    "        char1ID = lookupTableChars[char1] #Will record index for each character\n",
    "        temp2 = temp + 1\n",
    "        while temp2 < len(clQ): #Go from temp + 1 to ensure all possible triples are found but not repeated\n",
    "            char2 = clQ[temp2]\n",
    "            char2ID = lookupTableChars[char2]\n",
    "            temp3 = temp2 + 1\n",
    "            while temp3 < len(clQ):#Go from temp2 + 1 to ensure all possible triples are found but not repeated\n",
    "                char3 = clQ[temp3]\n",
    "                char3ID = lookupTableChars[char3]\n",
    "                l = [char1ID, char2ID, char3ID] #Create List with Id's of characters and order them least to greatest\n",
    "                tripVal1 = min(l)\n",
    "                l.remove(tripVal1)\n",
    "                tripVal2 = min(l)\n",
    "                l.remove(tripVal2)\n",
    "                tripVal3 = l[0]\n",
    "                l.remove(tripVal3)\n",
    "                trip = (tripVal1, tripVal2, tripVal3)\n",
    "                if trip in lookupTable3.keys(): #If triple is found in lookup table then add one to count\n",
    "                    lookupTable3[trip] = lookupTable3[trip] + 1\n",
    "                temp3 = temp3 + 1\n",
    "            temp2 = temp2 + 1\n",
    "        temp = temp + 1\n",
    "triples = []\n",
    "for p in lookupTable3.keys():\n",
    "    v = lookupTable3[p]\n",
    "    if v < supportThreshold:\n",
    "        pChar1 = k[p[0]]\n",
    "        pChar2 = k[p[1]]\n",
    "        pChar3 = k[p[2]]\n",
    "        triples.append([pChar1, pChar2, pChar3, v])\n",
    "print(\"Frequent Triples of Characters: \")\n",
    "print(triples)\n",
    "finalCharList = triples #Save final list for later use"
   ]
  },
  {
   "cell_type": "markdown",
   "metadata": {},
   "source": [
    "Not surprising that there is a lot of representation with vowels and characters from common words like \"the\". "
   ]
  },
  {
   "cell_type": "markdown",
   "metadata": {},
   "source": [
    "Apriori With Words, K=1,2"
   ]
  },
  {
   "cell_type": "code",
   "execution_count": 8,
   "metadata": {},
   "outputs": [
    {
     "name": "stdout",
     "output_type": "stream",
     "text": [
      "Frequent words after K=1 run:  0.02646683673469388\n",
      "249\n",
      "List of Qualified Character Pairs [pair, instances]:\n",
      "[['of', 'the', 508], ['of', 'world', 33], ['of', '2', 61], ['of', 'and', 31], ['of', 'a', 27], ['of', 'king', 52], ['of', 'fighters', 30], ['of', 'ii', 41], ['of', 'war', 52], ['of', 'call', 27], ['of', 'legend', 62], ['of', 'heroes', 36], ['of', 'tales', 38], ['of', 'rise', 29], ['the', 'world', 35], ['the', '2', 81], ['the', 'to', 35], ['the', '&', 34], ['the', 'for', 33], ['the', 'star', 35], ['the', 'game', 64], ['the', 'and', 86], ['the', 'adventures', 27], ['the', 'king', 47], ['the', 'fighters', 27], ['the', '3', 30], ['the', 'wars', 28], ['the', 'ii', 37], ['the', 'legend', 59], ['the', 'sims', 45], ['the', 'in', 55], ['world', 'championship', 40], ['soccer', 'pro', 29], ['naruto', 'ninja', 42], ['2', 'no', 40], ['no', 'ni', 34], ['no', 'to', 64], ['no', 'ds', 45], ['no', 'portable', 27], ['resident', 'evil', 30], ['super', 'robot', 53], ['super', 'taisen', 43], ['super', 'mario', 33], ['robot', 'taisen', 43], ['mega', 'man', 52], ['star', 'wars', 53], ['dragon', 'ball', 55], ['dragon', 'z', 38], ['dragon', 'quest', 35], ['ball', 'z', 38], ['game', 'video', 40], ['king', 'fighters', 30], ['jikkyou', 'pro', 50], ['jikkyou', 'powerful', 52], ['jikkyou', 'yakyuu', 48], ['tom', 'clancys', 35], ['series', 'vol', 29], ['pro', 'powerful', 50], ['pro', 'yakyuu', 69], ['powerful', 'yakyuu', 48], ['final', 'fantasy', 67], ['mobile', 'suit', 34], ['mobile', 'gundam', 34], ['suit', 'gundam', 33], ['warriors', 'dynasty', 31], ['harvest', 'moon', 29]]\n"
     ]
    }
   ],
   "source": [
    "#Counts for words\n",
    "#K=1 run\n",
    "temp5 = 0\n",
    "wordCounts = []\n",
    "while temp5 < len(lookupTableWords): #Append a 0 for each character to the count list\n",
    "    wordCounts.append(0)\n",
    "    temp5 = temp5 + 1\n",
    "for cl in titleListByWordsUnique: #Go through each title and if char is present then add 1 to count\n",
    "    for c in cl:\n",
    "        wordCounts[lookupTableWords[c]] = wordCounts[lookupTableWords[c]] + 1\n",
    "supportThreshold = len(titleListByWordsUnique) * 0.0023 #Starting with a High Threshold value, wanted to reduce to 25% \n",
    "qWords = []\n",
    "for ch in lookupTableWords.keys(): #Go through each character\n",
    "    ind = lookupTableWords[ch]\n",
    "    if wordCounts[ind] > supportThreshold: #See if character is greater than support threshold\n",
    "        if ch != '':\n",
    "            qWords.append(ch) #If character is greater than support threshold, add to qualified characters list\n",
    "print(\"Frequent words after K=1 run: \", len(qWords) / len(wordCounts))\n",
    "print(len(qWords))\n",
    "#Now for K=2\n",
    "qWordPairs = []\n",
    "temp6 = 0\n",
    "#Getting possible combinations for qualified pairs using qualified characters from K=1 run\n",
    "while temp6 < len(qWords):\n",
    "    word1 = qWords[temp6]\n",
    "    temp7 = temp6 + 1 #Start from one spot further than temp6\n",
    "    while temp7 < len(qWords):#from temp6+1 to end of qualified characters, this will get all possible combos\n",
    "        word2 = qWords[temp7]\n",
    "        pairCount = [lookupTableWords[word1], lookupTableWords[word2]]\n",
    "        qWordPairs.append(pairCount) #Adding pair to list\n",
    "        temp7 = temp7 + 1\n",
    "    temp6 = temp6 + 1\n",
    "lookupTable2W = {}\n",
    "for x in qWordPairs: #Making lookup table for each pair from qualified characters\n",
    "    lookupTable2W[(x[0], x[1])] = 0\n",
    "for cl in titleListByWordsUnique:\n",
    "    clQ = []\n",
    "    for c in cl:\n",
    "        if c in qWords: #Only need the qualified characters, so go through and get qualified characters in title\n",
    "            clQ.append(c)\n",
    "    temp8 = 0\n",
    "    while temp8 < len(clQ): #From start of title (only qualified characters) to end\n",
    "        word1 = clQ[temp8]\n",
    "        word1ID = lookupTableWords[word1]\n",
    "        temp9 = temp8 + 1\n",
    "        while temp9 < len(clQ): #From start of temp8 to end, to get all possible pairs from qualified characters in title but not have repeats\n",
    "            word2 = clQ[temp9]\n",
    "            word2ID = lookupTableWords[word2]\n",
    "            pair = [word1ID, word2ID] #Create list with the ID's of the characters\n",
    "            pairVal1 = min(pair) #Take min ID\n",
    "            pair.remove(pairVal1)\n",
    "            pairVal2 = pair[0] #Take other ID\n",
    "            pair.remove(pairVal2)\n",
    "            finalPair = (pairVal1, pairVal2) #This insures that ID is from lowest to highest, like in lookup table\n",
    "            if finalPair in lookupTable2W.keys():\n",
    "                lookupTable2W[finalPair] = lookupTable2W[finalPair] + 1 #Add one to counter for this pair\n",
    "            temp9 = temp9 + 1\n",
    "        temp8 = temp8 + 1\n",
    "qualifiedW = []\n",
    "w = []\n",
    "for l in lookupTableWords.keys(): #Made a list with all characters, the index of the list will be how I go from ID to character\n",
    "    w.append(l)\n",
    "for p in lookupTable2W.keys(): #Go through each pair from qualified characters\n",
    "    v = lookupTable2W[p]\n",
    "    if v > supportThreshold: #If pair exceeds threshold value, then add to qualified list\n",
    "        pWord1 = w[p[0]] #From ID to char\n",
    "        pWord2 = w[p[1]]\n",
    "        qualifiedW.append([pWord1, pWord2, v])\n",
    "print(\"List of Qualified Character Pairs [pair, instances]:\")\n",
    "print(qualifiedW)"
   ]
  },
  {
   "cell_type": "markdown",
   "metadata": {},
   "source": [
    "Apriori With Words, K=3"
   ]
  },
  {
   "cell_type": "code",
   "execution_count": 9,
   "metadata": {},
   "outputs": [],
   "source": [
    "qWordTrips = []\n",
    "newQW = []\n",
    "#Get list of characters to add on to pairs\n",
    "for x in qualifiedW:\n",
    "    if x[0] not in newQW:\n",
    "        newQW.append(x[0])\n",
    "    if x[1] not in newQW:\n",
    "        newQW.append(x[1])\n",
    "#Get Triples for words\n",
    "for x in qualifiedW: #Get all possible word triples from qualified pairs\n",
    "    temp = 0\n",
    "    word1Ind = lookupTableWords[x[0]]#Get indices of words\n",
    "    word2Ind = lookupTableWords[x[1]]\n",
    "    while temp < len(newQW): #Go through each qualified word and add to each pair\n",
    "        word3 = newQW[temp]\n",
    "        word3Ind = lookupTableWords[word3]\n",
    "        if word3 not in x: #Only add if not already in the pair, order indices from least to greatest\n",
    "            trip = [word1Ind, word2Ind, word3Ind]\n",
    "            tripVal1 = min(trip)\n",
    "            trip.remove(tripVal1)\n",
    "            tripVal2 = min(trip)\n",
    "            trip.remove(tripVal2)\n",
    "            tripVal3 = trip[0]\n",
    "            trip.remove(tripVal3)\n",
    "            finalTriple = (tripVal1, tripVal2, tripVal3)\n",
    "            if finalTriple not in qWordTrips:\n",
    "                qWordTrips.append(finalTriple)\n",
    "        temp = temp + 1\n",
    "\n",
    "\n",
    "\n",
    "#Pruning step, want to get only possible triples\n",
    "#This step takes a very long time with lower support thresholds, but takes around 20 seconds with selected threshold\n",
    "removal = []\n",
    "for x in lookupTable2W.keys():\n",
    "    if lookupTable2W[x] <= supportThreshold:#Check if this pair had less support than threshold\n",
    "        for y in qWordTrips:\n",
    "            if x[0] in y:\n",
    "                if x[1] in y: #If the pair is present in the triple, it cannot have the necessary support\n",
    "                    removal.append(y) #So mark triple for removal\n",
    "removalSet = set(removal)\n",
    "for x in removalSet: #Remove triples with unqualified pairs\n",
    "    qWordTrips.remove(x)\n",
    "                    \n",
    "                    \n",
    "                    \n",
    "newQ2W = []\n",
    "for x in qWordTrips: #Get updated list of qualified characters\n",
    "    if x[0] not in newQ2W:\n",
    "        newQ2W.append(x[0])\n",
    "    if x[1] not in newQ2W:\n",
    "        newQ2W.append(x[1])\n",
    "    if x[2] not in newQ2W:\n",
    "        newQ2W.append(x[2])\n",
    "\n",
    "        \n",
    "lookupTable3W = {}\n",
    "for x in qWordTrips: #Creating new lookup table for updated triples list\n",
    "    lookupTable3W[(x[0], x[1], x[2])] = 0\n",
    "for cl in titleListByWordsUnique: #Now go through each title and count instances of triples\n",
    "    clQ = []\n",
    "    for c in cl:\n",
    "        if lookupTableWords[c] in newQ2W: #Take words from title that are in the triples list\n",
    "            clQ.append(c)\n",
    "    temp = 0\n",
    "    while temp < len(clQ): #Go through entire list of qualified words in title\n",
    "        word1 = clQ[temp]\n",
    "        word1ID = lookupTableWords[word1] #Get indices of words\n",
    "        temp2 = temp + 1\n",
    "        while temp2 < len(clQ): #Go from temp + 1, so that all possible triples are found but not repeated\n",
    "            word2 = clQ[temp2]\n",
    "            word2ID = lookupTableWords[word2]\n",
    "            temp3 = temp2 + 1\n",
    "            while temp3 < len(clQ): #Go from temp2 + 1, so that all possible triples are found are found but not repeated\n",
    "                word3 = clQ[temp3]\n",
    "                word3ID = lookupTableWords[word3]\n",
    "                l = [word1ID, word2ID, word3ID] #Setup list of indices, order from least to greatest\n",
    "                tripVal1 = min(l)\n",
    "                l.remove(tripVal1)\n",
    "                tripVal2 = min(l)\n",
    "                l.remove(tripVal2)\n",
    "                tripVal3 = l[0]\n",
    "                l.remove(tripVal3)\n",
    "                trip = (tripVal1, tripVal2, tripVal3)\n",
    "                if trip in lookupTable3W.keys(): #If trip is in lookup table, then add to count\n",
    "                    lookupTable3W[trip] = lookupTable3W[trip] + 1\n",
    "                temp3 = temp3 + 1\n",
    "            temp2 = temp2 + 1\n",
    "        temp = temp + 1"
   ]
  },
  {
   "cell_type": "code",
   "execution_count": 10,
   "metadata": {},
   "outputs": [
    {
     "name": "stdout",
     "output_type": "stream",
     "text": [
      "Qualified Triples of Words:\n",
      "[['of', 'the', 'king', 39], ['of', 'the', 'fighters', 27], ['of', 'the', 'legend', 55], ['of', 'king', 'fighters', 30], ['the', 'king', 'fighters', 27], ['super', 'robot', 'taisen', 43], ['dragon', 'ball', 'z', 38], ['jikkyou', 'pro', 'powerful', 50], ['jikkyou', 'pro', 'yakyuu', 48], ['jikkyou', 'powerful', 'yakyuu', 48], ['pro', 'powerful', 'yakyuu', 48], ['mobile', 'suit', 'gundam', 33]]\n"
     ]
    }
   ],
   "source": [
    "triples = []\n",
    "for p in lookupTable3W.keys(): #Get triples that exceed support threshold\n",
    "    v = lookupTable3W[p]\n",
    "    if v >= supportThreshold:\n",
    "        pWord1 = w[p[0]]\n",
    "        pWord2 = w[p[1]]\n",
    "        pWord3 = w[p[2]]\n",
    "        triples.append([pWord1, pWord2, pWord3, v])\n",
    "print(\"Qualified Triples of Words:\")\n",
    "print(triples)\n",
    "finalWordList = triples"
   ]
  },
  {
   "cell_type": "markdown",
   "metadata": {},
   "source": [
    "Interesting to note that a frequent pair like \"Final, Fantasy\" had very high representation in the frequent pairs but is not in the frequent triples. This basically ends up representing the titles with the most game releases.  but what if we want total sales to matter?"
   ]
  },
  {
   "cell_type": "markdown",
   "metadata": {},
   "source": [
    "Getting Global Sales for each title"
   ]
  },
  {
   "cell_type": "code",
   "execution_count": 11,
   "metadata": {},
   "outputs": [
    {
     "name": "stdout",
     "output_type": "stream",
     "text": [
      "['Wii Sports', 82.74]\n"
     ]
    }
   ],
   "source": [
    "#This will put together a list filled with lists of [title, sale]\n",
    "salesList = []\n",
    "salesListChar = []\n",
    "salesListWord = []\n",
    "for i, x in dat.iterrows():\n",
    "    sales = x[\"Global_Sales\"] #Get global sales for the title\n",
    "    y = x[\"Name\"]\n",
    "    #Clean title same as before\n",
    "    if '(' in y:\n",
    "        z = y.split('(')\n",
    "        y = z[0]\n",
    "    y = y.replace(\"♪\",\"\")\n",
    "    y = y.replace(\":\",\"\")\n",
    "    y = y.replace(\";\",\"\")\n",
    "    y = y.replace(\"\\u200b\",\"\")\n",
    "    y = y.replace(\"°\",\"\")\n",
    "    y = y.replace(\"-\",\"\")\n",
    "    y = y.replace(\",\",\"\")\n",
    "    y = y.replace(\"/\",\"\")\n",
    "    y = y.replace(\"'\",\"\")\n",
    "    y = y.replace(\"é\",\"e\")\n",
    "    y = y.replace(\"(\",\"\")\n",
    "    y = y.replace(\")\",\"\")\n",
    "    y = y.replace(\"*\",\"\")\n",
    "    y = y.replace(\"à\",\"a\")\n",
    "    y = y.replace(\"¡\",\"i\")\n",
    "    y = y.replace(\".\",\"\")\n",
    "    y = y.replace(\"α\",\"\")\n",
    "    y = y.replace(\"[\",\"\")\n",
    "    y = y.replace(\"·\",\"\")\n",
    "    y = y.replace(\"ë\",\"e\")\n",
    "    y = y.replace(\"Ø\",\"o\")\n",
    "    y = y.replace(\"ö\",\"o\")\n",
    "    y = y.replace(\"~\",\"\")\n",
    "    y = y.replace(\"ä\",\"a\")\n",
    "    y = y.replace(\"]\",\"\")\n",
    "    y = y.replace(\"×\",\"x\")\n",
    "    multiPlatform = False #Account for games being released on multiple platform\n",
    "    temp2 = 0\n",
    "    while temp2 < len(salesList):\n",
    "        if y == salesList[temp2][0]: #If there is already an entry for the title, add to total sales instead of making new entry\n",
    "            salesList[temp2][1] = salesList[temp2][1] + sales\n",
    "            multiPlatform = True\n",
    "        temp2 = temp2 + 1\n",
    "    if multiPlatform == False: #If no entry, then create one\n",
    "        salesList.append([y, sales])\n",
    "print(salesList[0])\n",
    "salesListWord = []\n",
    "salesListChar = []\n",
    "temp = 0\n",
    "while temp < len(salesList):\n",
    "    salesListWord.append(salesList[temp])\n",
    "    salesListChar.append(salesList[temp])\n",
    "    temp = temp + 1"
   ]
  },
  {
   "cell_type": "markdown",
   "metadata": {},
   "source": [
    "Getting Sales Averages for each Triple of Characters and Words"
   ]
  },
  {
   "cell_type": "code",
   "execution_count": 12,
   "metadata": {},
   "outputs": [
    {
     "name": "stdout",
     "output_type": "stream",
     "text": [
      "Sales Data for each Qualified Triple of Characters:\n",
      "Triple  t a r\n",
      "Average Sales:  654961.81 Units\n",
      "Top Selling Game:  Grand Theft Auto V with  55920000.0  Units\n",
      "\n",
      "Triple  t a e\n",
      "Average Sales:  629828.34 Units\n",
      "Top Selling Game:  Grand Theft Auto V with  55920000.0  Units\n",
      "\n",
      "Triple  t r e\n",
      "Average Sales:  656283.02 Units\n",
      "Top Selling Game:  Grand Theft Auto V with  55920000.0  Units\n",
      "\n",
      "Triple  a i e\n",
      "Average Sales:  643000.67 Units\n",
      "Top Selling Game:  Super Mario Bros with  45310000.0  Units\n",
      "\n",
      "Triple  a r o\n",
      "Average Sales:  737579.11 Units\n",
      "Top Selling Game:  Grand Theft Auto V with  55920000.0  Units\n",
      "\n",
      "Triple  a r s\n",
      "Average Sales:  681210.31 Units\n",
      "Top Selling Game:  Super Mario Bros with  45310000.0  Units\n",
      "\n",
      "Triple  a o e\n",
      "Average Sales:  684961.05 Units\n",
      "Top Selling Game:  Grand Theft Auto V with  55920000.0  Units\n",
      "\n",
      "Triple  a o n\n",
      "Average Sales:  655574.69 Units\n",
      "Top Selling Game:  Grand Theft Auto V with  55920000.0  Units\n",
      "\n",
      "Triple  a e s\n",
      "Average Sales:  659107.88 Units\n",
      "Top Selling Game:  Super Mario Bros with  45310000.0  Units\n",
      "\n",
      "Triple  a e n\n",
      "Average Sales:  676535.09 Units\n",
      "Top Selling Game:  Grand Theft Auto V with  55920000.0  Units\n",
      "\n",
      "Triple  r o e\n",
      "Average Sales:  724180.56 Units\n",
      "Top Selling Game:  Grand Theft Auto V with  55920000.0  Units\n",
      "\n",
      "Triple  r e s\n",
      "Average Sales:  700683.5 Units\n",
      "Top Selling Game:  Super Mario Bros with  45310000.0  Units\n",
      "\n",
      "Triple  o e n\n",
      "Average Sales:  685152.83 Units\n",
      "Top Selling Game:  Grand Theft Auto V with  55920000.0  Units\n",
      "\n",
      "Sales Data for each Qualified Triple of Words:\n",
      "Triple  of the king\n",
      "Average Sales:  738205.13 Units\n",
      "Top Selling Game:  Dragon Quest VIII Journey of the Cursed King with  6070000.0  Units\n",
      "\n",
      "Triple  of the fighters\n",
      "Average Sales:  165925.93 Units\n",
      "Top Selling Game:  The King of Fighters 95 with  650000.0  Units\n",
      "\n",
      "Triple  of the legend\n",
      "Average Sales:  1735818.18 Units\n",
      "Top Selling Game:  The Legend of Zelda Ocarina of Time with  11810000.0  Units\n",
      "\n",
      "Triple  of king fighters\n",
      "Average Sales:  159666.67 Units\n",
      "Top Selling Game:  The King of Fighters 95 with  650000.0  Units\n",
      "\n",
      "Triple  the king fighters\n",
      "Average Sales:  165925.93 Units\n",
      "Top Selling Game:  The King of Fighters 95 with  650000.0  Units\n",
      "\n",
      "Triple  super robot taisen\n",
      "Average Sales:  307906.98 Units\n",
      "Top Selling Game:  Super Robot Taisen  with  800000.0  Units\n",
      "\n",
      "Triple  dragon ball z\n",
      "Average Sales:  876578.95 Units\n",
      "Top Selling Game:  Dragon Ball Z Budokai Tenkaichi 3 with  4040000.0  Units\n",
      "\n",
      "Triple  jikkyou pro powerful\n",
      "Average Sales:  299000.0 Units\n",
      "Top Selling Game:  Jikkyou Powerful Pro Yakyuu 99 Kaimakuban with  810000.0  Units\n",
      "\n",
      "Triple  jikkyou pro yakyuu\n",
      "Average Sales:  293541.67 Units\n",
      "Top Selling Game:  Jikkyou Powerful Pro Yakyuu 99 Kaimakuban with  810000.0  Units\n",
      "\n",
      "Triple  jikkyou powerful yakyuu\n",
      "Average Sales:  293541.67 Units\n",
      "Top Selling Game:  Jikkyou Powerful Pro Yakyuu 99 Kaimakuban with  810000.0  Units\n",
      "\n",
      "Triple  pro powerful yakyuu\n",
      "Average Sales:  293541.67 Units\n",
      "Top Selling Game:  Jikkyou Powerful Pro Yakyuu 99 Kaimakuban with  810000.0  Units\n",
      "\n",
      "Triple  mobile suit gundam\n",
      "Average Sales:  345151.52 Units\n",
      "Top Selling Game:  Mobile Suit Gundam Federation vs Zeon with  1140000.0  Units\n",
      "\n"
     ]
    }
   ],
   "source": [
    "charSalesList = []\n",
    "for x in finalCharList:\n",
    "    charSalesTot = 0\n",
    "    charMaxTitle = \"\"\n",
    "    charMaxSale = 0\n",
    "    for y in salesList: #Go through all titles\n",
    "        if x[0] in y[0].lower():\n",
    "            if x[1] in y[0].lower():\n",
    "                if x[2] in y[0].lower(): #If all parts of triple are present in title, then add to total sales for triple\n",
    "                    charSalesTot = charSalesTot + y[1]\n",
    "                    if y[1] > charMaxSale: #Also record max Sale\n",
    "                        charMaxTitle = y[0]\n",
    "                        charMaxSale = y[1]\n",
    "    charMaxSale = np.round(charMaxSale * 1000000, 2) #Multiplying by 1000000 to get units sold for highest selling title\n",
    "    charSalesTot = charSalesTot / x[3] #Divide by instances of titles containing the characters from Apriori to get average\n",
    "    charSalesTot = np.round(charSalesTot * 1000000, 2) #Multiplying by 1000000 to get average units sold\n",
    "    charSalesList.append([x[0], x[1], x[2], charSalesTot, charMaxTitle, charMaxSale]) #Append everything to salesList\n",
    "#Repeat above code but for word triples    \n",
    "wordSalesList = []\n",
    "for x in finalWordList:\n",
    "    wordSalesTot = 0\n",
    "    wordMaxTitle = \"\"\n",
    "    wordMaxSale = 0\n",
    "    for y in salesList:\n",
    "        if x[0] in y[0].lower():\n",
    "            if x[1] in y[0].lower():\n",
    "                if x[2] in y[0].lower():\n",
    "                    wordSalesTot = wordSalesTot + y[1]\n",
    "                    if y[1] > wordMaxSale:\n",
    "                        wordMaxTitle = y[0]\n",
    "                        wordMaxSale = y[1]\n",
    "    wordMaxSale = np.round(wordMaxSale * 1000000, 2)\n",
    "    wordSalesTot = wordSalesTot / x[3]\n",
    "    wordSalesTot = np.round(wordSalesTot * 1000000, 2)\n",
    "    wordSalesList.append([x[0], x[1], x[2], wordSalesTot, wordMaxTitle, wordMaxSale])\n",
    "\n",
    "#Print out Sales Data for Characters and Words\n",
    "print(\"Sales Data for each Qualified Triple of Characters:\")\n",
    "#Also record data and labels for use in graphing\n",
    "charLabels = []\n",
    "charData = []\n",
    "for x in charSalesList:\n",
    "    charLabels.append(x[0] + x[1] + x[2])\n",
    "    charData.append(x[3])\n",
    "    print(\"Triple \", x[0], x[1], x[2])\n",
    "    print(\"Average Sales: \", x[3], \"Units\")\n",
    "    print(\"Top Selling Game: \", x[4], \"with \", x[5], \" Units\")\n",
    "    print()\n",
    "print(\"Sales Data for each Qualified Triple of Words:\")\n",
    "wordLabels = []\n",
    "wordData = []\n",
    "for x in wordSalesList:\n",
    "    wordLabels.append(x[0] + \" \" + x[1] + \" \" + x[2])\n",
    "    wordData.append(x[3])\n",
    "    print(\"Triple \", x[0], x[1], x[2])\n",
    "    print(\"Average Sales: \", x[3], \"Units\")\n",
    "    print(\"Top Selling Game: \", x[4], \"with \", x[5], \" Units\")\n",
    "    print()"
   ]
  },
  {
   "cell_type": "code",
   "execution_count": 13,
   "metadata": {},
   "outputs": [
    {
     "data": {
      "text/plain": [
       "Text(0.5, 1.0, 'Average Sales of Characters')"
      ]
     },
     "execution_count": 13,
     "metadata": {},
     "output_type": "execute_result"
    },
    {
     "data": {
      "image/png": "[encoded data removed]",
      "text/plain": [
       "<Figure size 504x504 with 1 Axes>"
      ]
     },
     "metadata": {},
     "output_type": "display_data"
    }
   ],
   "source": [
    "#Pie Graph to show how each triple of characters has very similar average sales\n",
    "plt.figure(figsize = (7,7))\n",
    "plt.pie(charData, labels = charLabels)\n",
    "plt.title(\"Average Sales of Characters\")"
   ]
  },
  {
   "cell_type": "code",
   "execution_count": 14,
   "metadata": {},
   "outputs": [
    {
     "data": {
      "text/plain": [
       "Text(0.5, 1.0, 'Average Sales of Unweighted Words')"
      ]
     },
     "execution_count": 14,
     "metadata": {},
     "output_type": "execute_result"
    },
    {
     "data": {
      "image/png": "[encoded data removed]",
      "text/plain": [
       "<Figure size 504x504 with 1 Axes>"
      ]
     },
     "metadata": {},
     "output_type": "display_data"
    }
   ],
   "source": [
    "#Pie graph to show how compared to pie graph of characters the average sales of the triples of words is much more varying\n",
    "plt.figure(figsize = (7,7))\n",
    "plt.pie(wordData, labels = wordLabels)\n",
    "plt.title(\"Average Sales of Unweighted Words\")"
   ]
  },
  {
   "cell_type": "code",
   "execution_count": 15,
   "metadata": {},
   "outputs": [
    {
     "name": "stdout",
     "output_type": "stream",
     "text": [
      "['t', 'a', 'r', 5760]\n",
      "['t', 'a', 'e', 6175]\n",
      "['t', 'r', 'e', 5943]\n",
      "['a', 'i', 'e', 5942]\n",
      "['a', 'r', 'o', 5973]\n",
      "['a', 'r', 's', 5701]\n",
      "['a', 'o', 'e', 6162]\n",
      "['a', 'o', 'n', 5690]\n",
      "['a', 'e', 's', 6053]\n",
      "['a', 'e', 'n', 6156]\n",
      "['r', 'o', 'e', 6059]\n",
      "['r', 'e', 's', 5823]\n",
      "['o', 'e', 'n', 5758]\n",
      "0.5\n",
      "{'a', 'i', 'n', 's', 'e', 'o', 't'}\n",
      "{'b', 'l', 'd', 'o', 't', 'a', 'u', 'm', 'i', 'r', 's', 'n', 'g', 'e'}\n"
     ]
    }
   ],
   "source": [
    "#Comparing similarities of sets of characters and words found through Apriori\n",
    "charsPresent = \"\"\n",
    "for x in finalCharList:\n",
    "    print(x)\n",
    "    charsPresent = charsPresent + x[0] + x[1] + x[2]\n",
    "charsPresentSet = set(charsPresent)\n",
    "wordsPresent = \"\"\n",
    "for x in finalWordList:\n",
    "    wordsPresent = x[0] + x[1] + x[2]\n",
    "wordsPresentSet = set(wordsPresent)\n",
    "union =  charsPresentSet.union(wordsPresentSet)\n",
    "intersection = charsPresentSet.intersection(wordsPresentSet)\n",
    "jaccard = len(intersection) / len(union) #Get Jaccard Similarity\n",
    "print(jaccard)\n",
    "print(intersection) #Showing intersection and union of character and word sets\n",
    "print(union)"
   ]
  },
  {
   "cell_type": "markdown",
   "metadata": {},
   "source": [
    "Apriori for words with support based on sales"
   ]
  },
  {
   "cell_type": "code",
   "execution_count": 16,
   "metadata": {},
   "outputs": [
    {
     "name": "stdout",
     "output_type": "stream",
     "text": [
      "[['wii', 'sports'], 82.74]\n",
      "[['wii', 'sports'], 82.74]\n",
      "Total Sales:  8920.440000000732\n"
     ]
    }
   ],
   "source": [
    "#Now to make the lists containing the titles split by characters and words\n",
    "titleListByWords = []\n",
    "titleListByWordsUnique = []\n",
    "lookupTableWords = {}\n",
    "temp4 = 0\n",
    "totalSalesSupport = 0\n",
    "for a in salesListWord:\n",
    "    t = a[0]\n",
    "    u = a[1]\n",
    "    totalSalesSupport = totalSalesSupport + u\n",
    "    t = t.lower()\n",
    "    t = t.split(\" \")\n",
    "    tempL2 = []\n",
    "    tempLU2 = []\n",
    "    temp2 = 0\n",
    "    while temp2 < len(t):\n",
    "        tempL2.append(t[temp2])\n",
    "        if t[temp2] not in tempLU2:\n",
    "            tempLU2.append(t[temp2])\n",
    "        if t[temp2] not in lookupTableWords.keys():\n",
    "            lookupTableWords[t[temp2]] = temp4\n",
    "            temp4 = temp4 + 1\n",
    "        temp2 = temp2 + 1\n",
    "    titleListByWords.append([tempL2, u])\n",
    "    titleListByWordsUnique.append([tempLU2, u])\n",
    "print(titleListByWordsUnique[0])\n",
    "print(titleListByWords[0])\n",
    "\n",
    "\n",
    "\n",
    "\n",
    "print(\"Total Sales: \", totalSalesSupport)"
   ]
  },
  {
   "cell_type": "markdown",
   "metadata": {},
   "source": [
    "Apriori with Sales K=1,2 Run"
   ]
  },
  {
   "cell_type": "code",
   "execution_count": 17,
   "metadata": {},
   "outputs": [
    {
     "name": "stdout",
     "output_type": "stream",
     "text": [
      "Frequent words after K=1 run:  0.005420918367346939\n",
      "List of Qualified Character Pairs [pair, instances]:\n",
      "[['wii', 'sports', 116.14], ['super', 'mario', 330.2300000000001], ['super', 'bros', 191.98000000000002], ['mario', 'bros', 157.80000000000004], ['mario', 'kart', 109.47000000000001], ['grand', 'theft', 161.59000000000003], ['grand', 'auto', 161.59000000000003], ['theft', 'auto', 161.59000000000003], ['call', 'of', 254.37000000000003], ['call', 'duty', 251.56000000000003], ['call', 'warfare', 98.37], ['of', 'duty', 251.56000000000003], ['of', 'warfare', 98.37], ['of', 'black', 89.71999999999998], ['of', 'the', 375.44999999999897], ['of', 'legend', 96.06], ['duty', 'warfare', 98.37], ['final', 'fantasy', 112.29999999999997], ['the', 'legend', 95.45], ['the', 'lego', 88.36000000000001], ['star', 'wars', 130.74999999999997], ['for', 'need', 102.12999999999998], ['for', 'speed', 102.12999999999998], ['need', 'speed', 102.12999999999998], ['madden', 'nfl', 122.65]]\n"
     ]
    }
   ],
   "source": [
    "#Counts for words\n",
    "#K=1 run\n",
    "temp5 = 0\n",
    "wordCounts = []\n",
    "while temp5 < len(lookupTableWords): #Append a 0 for each word to the count list\n",
    "    wordCounts.append(0)\n",
    "    temp5 = temp5 + 1\n",
    "for cl in titleListByWordsUnique: #Go through each title and if word is present then add 1 to count\n",
    "    for c in cl[0]:\n",
    "        wordCounts[lookupTableWords[c]] = wordCounts[lookupTableWords[c]] + cl[1]\n",
    "supportThreshold = totalSalesSupport * 0.00986 #Threshold for Global Sales from words \n",
    "qWords = []\n",
    "for ch in lookupTableWords.keys(): #Go through each word\n",
    "    ind = lookupTableWords[ch]\n",
    "    if wordCounts[ind] > supportThreshold: #See if word is greater than support threshold\n",
    "        if ch != '':\n",
    "            qWords.append(ch) #If word is greater than support threshold, add to qualified word list\n",
    "print(\"Frequent words after K=1 run: \", len(qWords) / len(wordCounts))\n",
    "\n",
    "#Now for K=2\n",
    "qWordPairs = []\n",
    "temp6 = 0\n",
    "#Getting possible combinations for qualified pairs using qualified words from K=1 run\n",
    "while temp6 < len(qWords):\n",
    "    word1 = qWords[temp6]\n",
    "    temp7 = temp6 + 1 #Start from one spot further than temp6\n",
    "    while temp7 < len(qWords):#from temp6+1 to end of qualified words, this will get all possible combos\n",
    "        word2 = qWords[temp7]\n",
    "        pairCount = [lookupTableWords[word1], lookupTableWords[word2]]\n",
    "        qWordPairs.append(pairCount) #Adding pair to list\n",
    "        temp7 = temp7 + 1\n",
    "    temp6 = temp6 + 1\n",
    "lookupTable2W = {}\n",
    "for x in qWordPairs: #Making lookup table for each pair from qualified words\n",
    "    lookupTable2W[(x[0], x[1])] = 0\n",
    "for cl in titleListByWordsUnique:\n",
    "    clQ = []\n",
    "    for c in cl[0]:\n",
    "        if c in qWords: #Only need the qualified words, so go through and get qualified words in title\n",
    "            clQ.append(c)\n",
    "    temp8 = 0\n",
    "    while temp8 < len(clQ): #From start of title (only qualified words) to end\n",
    "        word1 = clQ[temp8]\n",
    "        word1ID = lookupTableWords[word1]\n",
    "        temp9 = temp8 + 1\n",
    "        while temp9 < len(clQ): #From start of temp8 to end, to get all possible pairs from qualified words in title but not have repeats\n",
    "            word2 = clQ[temp9]\n",
    "            word2ID = lookupTableWords[word2]\n",
    "            pair = [word1ID, word2ID] #Create list with the ID's of the words\n",
    "            pairVal1 = min(pair) #Take min ID\n",
    "            pair.remove(pairVal1)\n",
    "            pairVal2 = pair[0] #Take other ID\n",
    "            pair.remove(pairVal2)\n",
    "            finalPair = (pairVal1, pairVal2) #This insures that ID is from lowest to highest, like in lookup table\n",
    "            if finalPair in lookupTable2W.keys():\n",
    "                lookupTable2W[finalPair] = lookupTable2W[finalPair] + cl[1] #Add Sales for this title to pair\n",
    "            temp9 = temp9 + 1\n",
    "        temp8 = temp8 + 1\n",
    "qualifiedW = []\n",
    "w = []\n",
    "for l in lookupTableWords.keys(): #Made a list with all words, the index of the list will be how I go from ID to word\n",
    "    w.append(l)\n",
    "for p in lookupTable2W.keys(): #Go through each pair from qualified words\n",
    "    v = lookupTable2W[p]\n",
    "    if v > supportThreshold: #If pair exceeds threshold value, then add to qualified list\n",
    "        pWord1 = w[p[0]] #From ID to word\n",
    "        pWord2 = w[p[1]]\n",
    "        qualifiedW.append([pWord1, pWord2, v])\n",
    "print(\"List of Qualified Character Pairs [pair, instances]:\")\n",
    "print(qualifiedW)"
   ]
  },
  {
   "cell_type": "markdown",
   "metadata": {},
   "source": [
    "Apriori Using Sales K=3 Run"
   ]
  },
  {
   "cell_type": "code",
   "execution_count": 18,
   "metadata": {},
   "outputs": [],
   "source": [
    "qWordTrips = []\n",
    "newQW = []\n",
    "#Get list of characters to add on to pairs\n",
    "for x in qualifiedW:\n",
    "    if x[0] not in newQW:\n",
    "        newQW.append(x[0])\n",
    "    if x[1] not in newQW:\n",
    "        newQW.append(x[1])\n",
    "#Get Triples for words\n",
    "for x in qualifiedW: #Get all possible word triples from qualified pairs\n",
    "    temp = 0\n",
    "    word1Ind = lookupTableWords[x[0]]#Get indices of words\n",
    "    word2Ind = lookupTableWords[x[1]]\n",
    "    while temp < len(newQW): #Go through each qualified word and add to each pair\n",
    "        word3 = newQW[temp]\n",
    "        word3Ind = lookupTableWords[word3]\n",
    "        if word3 not in x: #Only add if not already in the pair, order indices from least to greatest\n",
    "            trip = [word1Ind, word2Ind, word3Ind]\n",
    "            tripVal1 = min(trip)\n",
    "            trip.remove(tripVal1)\n",
    "            tripVal2 = min(trip)\n",
    "            trip.remove(tripVal2)\n",
    "            tripVal3 = trip[0]\n",
    "            trip.remove(tripVal3)\n",
    "            finalTriple = (tripVal1, tripVal2, tripVal3)\n",
    "            if finalTriple not in qWordTrips:\n",
    "                qWordTrips.append(finalTriple)\n",
    "        temp = temp + 1\n",
    "\n",
    "\n",
    "#Pruning step, want to get only possible triples\n",
    "#This step takes a very long time with lower support thresholds, but takes around 20 seconds with selected threshold\n",
    "removal = []\n",
    "for x in lookupTable2W.keys():\n",
    "    if lookupTable2W[x] <= supportThreshold:#Check if this pair had less support than threshold\n",
    "        for y in qWordTrips:\n",
    "            if x[0] in y:\n",
    "                if x[1] in y: #If the pair is present in the triple, it cannot have the necessary support\n",
    "                    removal.append(y) #So mark triple for removal\n",
    "removalSet = set(removal)\n",
    "for x in removalSet: #Remove triples with unqualified pairs\n",
    "    qWordTrips.remove(x)\n",
    "                    \n",
    "                    \n",
    "                    \n",
    "newQ2W = []\n",
    "for x in qWordTrips: #Get updated list of qualified characters\n",
    "    if x[0] not in newQ2W:\n",
    "        newQ2W.append(x[0])\n",
    "    if x[1] not in newQ2W:\n",
    "        newQ2W.append(x[1])\n",
    "    if x[2] not in newQ2W:\n",
    "        newQ2W.append(x[2])\n",
    "\n",
    "        \n",
    "\n",
    "lookupTable3W = {}\n",
    "for x in qWordTrips: #Creating new lookup table for updated triples list\n",
    "    lookupTable3W[(x[0], x[1], x[2])] = 0\n",
    "for cl in titleListByWordsUnique: #Now go through each title and count instances of triples\n",
    "    clQ = []\n",
    "    for c in cl[0]:\n",
    "        if lookupTableWords[c] in newQ2W: #Take words from title that are in the triples list\n",
    "            clQ.append(c)\n",
    "    temp = 0\n",
    "    while temp < len(clQ): #Go through entire list of qualified words in title\n",
    "        word1 = clQ[temp]\n",
    "        word1ID = lookupTableWords[word1] #Get indices of words\n",
    "        temp2 = temp + 1\n",
    "        while temp2 < len(clQ): #Go from temp + 1, so that all possible triples are found but not repeated\n",
    "            word2 = clQ[temp2]\n",
    "            word2ID = lookupTableWords[word2]\n",
    "            temp3 = temp2 + 1\n",
    "            while temp3 < len(clQ): #Go from temp2 + 1, so that all possible triples are found are found but not repeated\n",
    "                word3 = clQ[temp3]\n",
    "                word3ID = lookupTableWords[word3]\n",
    "                l = [word1ID, word2ID, word3ID] #Setup list of indices, order from least to greatest\n",
    "                tripVal1 = min(l)\n",
    "                l.remove(tripVal1)\n",
    "                tripVal2 = min(l)\n",
    "                l.remove(tripVal2)\n",
    "                tripVal3 = l[0]\n",
    "                l.remove(tripVal3)\n",
    "                trip = (tripVal1, tripVal2, tripVal3)\n",
    "                if trip in lookupTable3W.keys(): #If trip is in lookup table, then add sales to count\n",
    "                    lookupTable3W[trip] = lookupTable3W[trip] + cl[1]\n",
    "                temp3 = temp3 + 1\n",
    "            temp2 = temp2 + 1\n",
    "        temp = temp + 1"
   ]
  },
  {
   "cell_type": "code",
   "execution_count": 19,
   "metadata": {},
   "outputs": [
    {
     "name": "stdout",
     "output_type": "stream",
     "text": [
      "Qualified Triples:\n",
      "[['super', 'mario', 'bros', 153.85000000000002], ['grand', 'theft', 'auto', 161.59000000000003], ['call', 'of', 'duty', 251.56000000000003], ['call', 'of', 'warfare', 98.37], ['call', 'duty', 'warfare', 98.37], ['of', 'duty', 'warfare', 98.37], ['of', 'the', 'legend', 93.91000000000001], ['for', 'need', 'speed', 102.12999999999998]]\n"
     ]
    }
   ],
   "source": [
    "triples = []\n",
    "for p in lookupTable3W.keys(): #Get triples that exceed support threshold\n",
    "    v = lookupTable3W[p]\n",
    "    if v >= supportThreshold:\n",
    "        pWord1 = w[p[0]]\n",
    "        pWord2 = w[p[1]]\n",
    "        pWord3 = w[p[2]]\n",
    "        triples.append([pWord1, pWord2, pWord3, v])\n",
    "print(\"Qualified Triples:\")\n",
    "print(triples)\n",
    "finalWordListSales = triples"
   ]
  },
  {
   "cell_type": "markdown",
   "metadata": {},
   "source": [
    "Now the big name titles with the most sales have the most representation, which is what I was looking for."
   ]
  },
  {
   "cell_type": "code",
   "execution_count": 20,
   "metadata": {},
   "outputs": [
    {
     "name": "stdout",
     "output_type": "stream",
     "text": [
      "Sales Data for each Qualified Triple of Words:\n",
      "Triple  super mario bros\n",
      "Average Sales:  13986363.64 Units\n",
      "Top Selling Game:  Super Mario Bros with  45310000.0  Units\n",
      "\n",
      "Triple  grand theft auto\n",
      "Average Sales:  13465833.33 Units\n",
      "Top Selling Game:  Grand Theft Auto V with  55920000.0  Units\n",
      "\n",
      "Triple  call of duty\n",
      "Average Sales:  11979047.62 Units\n",
      "Top Selling Game:  Call of Duty Black Ops with  31030000.0  Units\n",
      "\n",
      "Triple  call of warfare\n",
      "Average Sales:  12296250.0 Units\n",
      "Top Selling Game:  Call of Duty Modern Warfare 3 with  30830000.0  Units\n",
      "\n",
      "Triple  call duty warfare\n",
      "Average Sales:  12296250.0 Units\n",
      "Top Selling Game:  Call of Duty Modern Warfare 3 with  30830000.0  Units\n",
      "\n",
      "Triple  of duty warfare\n",
      "Average Sales:  12296250.0 Units\n",
      "Top Selling Game:  Call of Duty Modern Warfare 3 with  30830000.0  Units\n",
      "\n",
      "Triple  of the legend\n",
      "Average Sales:  1618135.59 Units\n",
      "Top Selling Game:  The Legend of Zelda Ocarina of Time with  11810000.0  Units\n",
      "\n",
      "Triple  for need speed\n",
      "Average Sales:  4642272.73 Units\n",
      "Top Selling Game:  Need for Speed Most Wanted with  14080000.0  Units\n",
      "\n"
     ]
    }
   ],
   "source": [
    "#Repeat of code in earlier cell for getting averages and max's on triples\n",
    "wordSalesList2 = []\n",
    "for x in finalWordListSales:\n",
    "    wordSalesTot2 = 0\n",
    "    wordMaxTitle2 = \"\"\n",
    "    wordMaxSale2 = 0\n",
    "    instances = 0\n",
    "    for y in salesList:\n",
    "        if x[0] in y[0].lower():\n",
    "            if x[1] in y[0].lower():\n",
    "                if x[2] in y[0].lower():\n",
    "                    instances = instances + 1\n",
    "                    wordSalesTot2 = wordSalesTot2 + y[1]\n",
    "                    if y[1] > wordMaxSale2:\n",
    "                        wordMaxTitle2 = y[0]\n",
    "                        wordMaxSale2 = y[1]\n",
    "    wordMaxSale2 = np.round(wordMaxSale2 * 1000000, 2)\n",
    "    wordSalesTot2 = wordSalesTot2 / instances\n",
    "    wordSalesTot2 = np.round(wordSalesTot2 * 1000000, 2)\n",
    "    wordSalesList2.append([x[0], x[1], x[2], wordSalesTot2, wordMaxTitle2, wordMaxSale2])\n",
    "print(\"Sales Data for each Qualified Triple of Words:\")\n",
    "wordLabels2 = []\n",
    "wordData2 = []\n",
    "for x in wordSalesList2:\n",
    "    wordLabels2.append(x[0] + \" \" + x[1] + \" \" + x[2])\n",
    "    wordData2.append(x[3])\n",
    "    print(\"Triple \", x[0], x[1], x[2])\n",
    "    print(\"Average Sales: \", x[3], \"Units\")\n",
    "    print(\"Top Selling Game: \", x[4], \"with \", x[5], \" Units\")\n",
    "    print()"
   ]
  },
  {
   "cell_type": "markdown",
   "metadata": {},
   "source": [
    "Comparisons of words using normal support and weighted support"
   ]
  },
  {
   "cell_type": "code",
   "execution_count": 21,
   "metadata": {},
   "outputs": [
    {
     "name": "stdout",
     "output_type": "stream",
     "text": [
      "0.13793103448275862\n",
      "{'super', 'of', 'legend', 'the'}\n",
      "{'need', 'warfare', 'ball', 'pro', 'of', 'jikkyou', 'dragon', 'robot', 'z', 'speed', 'the', 'theft', 'gundam', 'call', 'super', 'duty', 'mobile', 'powerful', 'yakyuu', 'for', 'mario', 'bros', 'suit', 'auto', 'legend', 'fighters', 'taisen', 'grand', 'king'}\n"
     ]
    }
   ],
   "source": [
    "#Comparing similarities of sets of characters and words found through Apriori\n",
    "wordsPresentReg = []\n",
    "for x in finalWordList:\n",
    "    wordsPresentReg.append(x[0])\n",
    "    wordsPresentReg.append(x[1])\n",
    "    wordsPresentReg.append(x[2])\n",
    "wordsPresentRegSet = set(wordsPresentReg) #Set of words present in unweighted set\n",
    "\n",
    "wordsPresentSales = []\n",
    "for x in finalWordListSales:\n",
    "    wordsPresentSales.append(x[0])\n",
    "    wordsPresentSales.append(x[1])\n",
    "    wordsPresentSales.append(x[2])\n",
    "wordsPresentSalesSet = set(wordsPresentSales) #Set of words present in weighted set\n",
    "union2 =  wordsPresentRegSet.union(wordsPresentSalesSet)\n",
    "intersection2 = wordsPresentRegSet.intersection(wordsPresentSalesSet)\n",
    "jaccard2 = len(intersection2) / len(union2) #Jaccard Similarity of unweighted and weighted word sets\n",
    "print(jaccard2)\n",
    "print(intersection2)\n",
    "print(union2)"
   ]
  },
  {
   "cell_type": "markdown",
   "metadata": {},
   "source": [
    "Very low Jaccard Similarity, so the lists generated by unweighted and weighted methods are very different."
   ]
  },
  {
   "cell_type": "code",
   "execution_count": 22,
   "metadata": {},
   "outputs": [
    {
     "data": {
      "text/plain": [
       "Text(0.5, 1.0, 'Average Sales of Weighted Words')"
      ]
     },
     "execution_count": 22,
     "metadata": {},
     "output_type": "execute_result"
    },
    {
     "data": {
      "image/png": "[encoded data removed]",
      "text/plain": [
       "<Figure size 504x504 with 1 Axes>"
      ]
     },
     "metadata": {},
     "output_type": "display_data"
    }
   ],
   "source": [
    "#Pie graph to show how much more evenly distributed the average sales are in this graph compared to the unweighted words graph\n",
    "plt.figure(figsize = (7,7))\n",
    "plt.pie(wordData2, labels = wordLabels2)\n",
    "plt.title(\"Average Sales of Weighted Words\")"
   ]
  },
  {
   "cell_type": "code",
   "execution_count": 23,
   "metadata": {},
   "outputs": [
    {
     "name": "stdout",
     "output_type": "stream",
     "text": [
      "Comparison of Average Sales Between Top 5 Weighted and Unweighted Word Triples\n"
     ]
    },
    {
     "data": {
      "text/plain": [
       "<function matplotlib.pyplot.show(*args, **kw)>"
      ]
     },
     "execution_count": 23,
     "metadata": {},
     "output_type": "execute_result"
    },
    {
     "data": {
      "image/png": "[encoded data removed]",
      "text/plain": [
       "<Figure size 432x288 with 1 Axes>"
      ]
     },
     "metadata": {
      "needs_background": "light"
     },
     "output_type": "display_data"
    }
   ],
   "source": [
    "#Comparing average sales from top 5 of weighted word triples to unweighted word triples\n",
    "#Used matplotlib website for help making this bar graph https://matplotlib.org/stable/gallery/lines_bars_and_markers/barchart.html\n",
    "lab = [\"1\", \"2\", \"3\", \"4\", \"5\"]\n",
    "#Get ordered weighted words\n",
    "temp = 0\n",
    "maxWordSaleOrder = []\n",
    "wordSalesList2C = wordSalesList2.copy()\n",
    "while temp < len(wordSalesList2):\n",
    "    maxSaleVal = 0\n",
    "    maxSaleInd = 0\n",
    "    temp2 = 0\n",
    "    while temp2 < len(wordSalesList2C):\n",
    "        if wordSalesList2C[temp2][3] > maxSaleVal:\n",
    "            maxSaleVal = wordSalesList2C[temp2][3]\n",
    "            maxSaleInd = temp2\n",
    "            maxSaleI = wordSalesList2C[temp2]\n",
    "        temp2 = temp2 + 1\n",
    "    maxWordSaleOrder.append(maxSaleI)\n",
    "    wordSalesList2C.remove(wordSalesList2C[maxSaleInd])\n",
    "    temp = temp + 1\n",
    "\n",
    "#Get ordered unweighted words\n",
    "temp = 0\n",
    "maxUWordSaleOrder = []\n",
    "wordSalesListC = wordSalesList.copy()\n",
    "while temp < len(wordSalesList):\n",
    "    maxSaleVal = 0\n",
    "    maxSaleInd = 0\n",
    "    temp2 = 0\n",
    "    while temp2 < len(wordSalesListC):\n",
    "        if wordSalesListC[temp2][3] > maxSaleVal:\n",
    "            maxSaleVal = wordSalesListC[temp2][3]\n",
    "            maxSaleInd = temp2\n",
    "            maxSaleI = wordSalesListC[temp2]\n",
    "        temp2 = temp2 + 1\n",
    "    maxUWordSaleOrder.append(maxSaleI)\n",
    "    wordSalesListC.remove(wordSalesListC[maxSaleInd])\n",
    "    temp = temp + 1\n",
    "\n",
    "#Get ordered characters\n",
    "temp = 0\n",
    "maxCharSaleOrder = []\n",
    "charSalesListC = charSalesList.copy()\n",
    "while temp < len(charSalesList):\n",
    "    maxSaleVal = 0\n",
    "    maxSaleInd = 0\n",
    "    temp2 = 0\n",
    "    while temp2 < len(charSalesListC):\n",
    "        if charSalesListC[temp2][3] > maxSaleVal:\n",
    "            maxSaleVal = charSalesListC[temp2][3]\n",
    "            maxSaleInd = temp2\n",
    "            maxSaleI = charSalesListC[temp2]\n",
    "        temp2 = temp2 + 1\n",
    "    maxCharSaleOrder.append(maxSaleI)\n",
    "    charSalesListC.remove(charSalesListC[maxSaleInd])\n",
    "    temp = temp + 1\n",
    "            \n",
    "top5Weighted = [maxWordSaleOrder[0][3], maxWordSaleOrder[1][3], maxWordSaleOrder[2][3], maxWordSaleOrder[3][3], maxWordSaleOrder[4][3]]\n",
    "top5Unweighted = [maxUWordSaleOrder[0][3], maxUWordSaleOrder[1][3], maxUWordSaleOrder[2][3], maxUWordSaleOrder[3][3], maxUWordSaleOrder[4][3]]\n",
    "loc = np.arange(5)\n",
    "\n",
    "print(\"Comparison of Average Sales Between Top 5 Weighted and Unweighted Word Triples\")\n",
    "f, a = plt.subplots()\n",
    "r1 = a.bar(loc - 0.2, top5Weighted, 0.4, label = \"Weighted\")\n",
    "r2 = a.bar(loc - 0.2, top5Unweighted, 0.4, label = \"Unweighted\")\n",
    "a.set_ylabel(\"Average Sales (Tens of Millions)\")\n",
    "a.set_xlabel(\"Top 5 Average Sales per Method\")\n",
    "a.set_xticks(loc, lab)\n",
    "a.legend()\n",
    "f.tight_layout()\n",
    "plt.show"
   ]
  },
  {
   "cell_type": "markdown",
   "metadata": {},
   "source": [
    "Comparisons to Average Sales from Genres"
   ]
  },
  {
   "cell_type": "code",
   "execution_count": 24,
   "metadata": {},
   "outputs": [],
   "source": [
    "genreSalesList = []\n",
    "for x in genreList:\n",
    "    genreSalesList.append(np.round(x[3] * 1000000, 2)) #Append actual unit sales"
   ]
  },
  {
   "cell_type": "code",
   "execution_count": 25,
   "metadata": {},
   "outputs": [
    {
     "data": {
      "text/plain": [
       "Text(0, 0.5, 'Average Sales')"
      ]
     },
     "execution_count": 25,
     "metadata": {},
     "output_type": "execute_result"
    },
    {
     "data": {
      "image/png": "[encoded data removed]",
      "text/plain": [
       "<Figure size 432x288 with 1 Axes>"
      ]
     },
     "metadata": {
      "needs_background": "light"
     },
     "output_type": "display_data"
    }
   ],
   "source": [
    "#Character triples vs Genres\n",
    "ref = [1,2,3,4,5,6,7,8,9,10,11,12]\n",
    "charDataMTL = [maxCharSaleOrder[0][3], maxCharSaleOrder[1][3], maxCharSaleOrder[2][3], maxCharSaleOrder[3][3], maxCharSaleOrder[4][3], maxCharSaleOrder[5][3], maxCharSaleOrder[6][3], maxCharSaleOrder[7][3], maxCharSaleOrder[8][3], maxCharSaleOrder[9][3], maxCharSaleOrder[10][3], maxCharSaleOrder[11][3], ]\n",
    "genreDataMTL = [maxGenreSaleOrder[0][3], maxGenreSaleOrder[1][3], maxGenreSaleOrder[2][3], maxGenreSaleOrder[3][3], maxGenreSaleOrder[4][3], maxGenreSaleOrder[5][3], maxGenreSaleOrder[6][3], maxGenreSaleOrder[7][3], maxGenreSaleOrder[8][3], maxGenreSaleOrder[9][3], maxGenreSaleOrder[10][3], maxGenreSaleOrder[11][3], ]\n",
    "plt.scatter(ref, genreDataMTL, label = \"Genre Averages\")\n",
    "plt.scatter(ref, charDataMTL, label = \"Character Triples Averages\")\n",
    "plt.legend()\n",
    "plt.xlabel(\"Top items from Character/Genre Lists\")\n",
    "plt.ylabel(\"Average Sales\")"
   ]
  },
  {
   "cell_type": "markdown",
   "metadata": {},
   "source": [
    "Not a ton can be drawn from this graph I think, the characters are all common in a heavy majority of the titles, so the sales averages here don't mean much."
   ]
  },
  {
   "cell_type": "code",
   "execution_count": 26,
   "metadata": {},
   "outputs": [
    {
     "data": {
      "text/plain": [
       "Text(0, 0.5, 'Average Sales')"
      ]
     },
     "execution_count": 26,
     "metadata": {},
     "output_type": "execute_result"
    },
    {
     "data": {
      "image/png": "[encoded data removed]",
      "text/plain": [
       "<Figure size 432x288 with 1 Axes>"
      ]
     },
     "metadata": {
      "needs_background": "light"
     },
     "output_type": "display_data"
    }
   ],
   "source": [
    "#Unweighted word triples vs Genres:\n",
    "unWeightedDataMTL = [maxUWordSaleOrder[0][3], maxUWordSaleOrder[1][3], maxUWordSaleOrder[2][3], maxUWordSaleOrder[3][3], maxUWordSaleOrder[4][3], maxUWordSaleOrder[5][3], maxUWordSaleOrder[6][3], maxUWordSaleOrder[7][3], maxUWordSaleOrder[8][3], maxUWordSaleOrder[9][3], maxUWordSaleOrder[10][3], maxUWordSaleOrder[11][3], ]\n",
    "plt.scatter(ref, genreDataMTL, label = \"Genre Averages\")\n",
    "plt.scatter(ref, unWeightedDataMTL, label = \"Unweighted Word Triples Averages\")\n",
    "plt.legend()\n",
    "plt.xlabel(\"Top items from Unweighted word/Genre Lists\")\n",
    "plt.ylabel(\"Average Sales\")"
   ]
  },
  {
   "cell_type": "markdown",
   "metadata": {},
   "source": [
    "Here the average sales for Genres generally does better than the average sales for the unweighted triples, so it seems that Genres have a higher correlation to sales."
   ]
  },
  {
   "cell_type": "code",
   "execution_count": 27,
   "metadata": {},
   "outputs": [
    {
     "data": {
      "text/plain": [
       "Text(0, 0.5, 'Average Sales (Tens of Millions)')"
      ]
     },
     "execution_count": 27,
     "metadata": {},
     "output_type": "execute_result"
    },
    {
     "data": {
      "image/png": "[encoded data removed]",
      "text/plain": [
       "<Figure size 432x288 with 1 Axes>"
      ]
     },
     "metadata": {
      "needs_background": "light"
     },
     "output_type": "display_data"
    }
   ],
   "source": [
    "#Weighted word triples vs Genres:\n",
    "ref = [1,2,3,4,5,6,7,8]\n",
    "weightedDataMTL = [maxWordSaleOrder[0][3], maxWordSaleOrder[1][3], maxWordSaleOrder[2][3], maxWordSaleOrder[3][3], maxWordSaleOrder[4][3], maxWordSaleOrder[5][3], maxWordSaleOrder[6][3], maxWordSaleOrder[7][3]]\n",
    "genreDataMTL = [maxGenreSaleOrder[0][3], maxGenreSaleOrder[1][3], maxGenreSaleOrder[2][3], maxGenreSaleOrder[3][3], maxGenreSaleOrder[4][3], maxGenreSaleOrder[5][3], maxGenreSaleOrder[6][3], maxGenreSaleOrder[7][3]]\n",
    "plt.scatter(ref, genreDataMTL, label = \"Genre Averages\")\n",
    "plt.scatter(ref, weightedDataMTL, label = \"Weighted Word Triples Averages\")\n",
    "plt.legend()\n",
    "plt.xlabel(\"Top items from Weighted Word/Genre Lists\")\n",
    "plt.ylabel(\"Average Sales (Tens of Millions)\")"
   ]
  },
  {
   "cell_type": "markdown",
   "metadata": {},
   "source": [
    "Here the weighted triples correlate much more to average sales than the genres do, which makes sense because the triples from the weighted Apriori are made up of the top selling games. "
   ]
  },
  {
   "cell_type": "markdown",
   "metadata": {},
   "source": [
    "I will go into much more detail in the Project Write-up, but my main conclussions are that Genres correlate much better to sales than characters or unweighted words. However, the word triples generated through my weighted Apriori correlated much more to higher average sales than the Genre's did. "
   ]
  }
 ],
 "metadata": {
  "kernelspec": {
   "display_name": "Python 3",
   "language": "python",
   "name": "python3"
  },
  "language_info": {
   "codemirror_mode": {
    "name": "ipython",
    "version": 3
   },
   "file_extension": ".py",
   "mimetype": "text/x-python",
   "name": "python",
   "nbconvert_exporter": "python",
   "pygments_lexer": "ipython3",
   "version": "3.7.4"
  }
 },
 "nbformat": 4,
 "nbformat_minor": 2
}
